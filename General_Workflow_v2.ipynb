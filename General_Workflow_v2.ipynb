{
 "cells": [
  {
   "cell_type": "markdown",
   "metadata": {},
   "source": [
    "### This code used MR prostate dataset as example.\n",
    "\n",
    "Original directory: /cmvm.datastore.ed.ac.uk/cmvm_datastore/smgphs/groups/OncologyPhysics/clinical_data/prostate/MR_Prostate_Project/MR_Prostate_New_Anon_Data/Original MR T2 Data/001"
   ]
  },
  {
   "cell_type": "markdown",
   "metadata": {},
   "source": [
    "# 1. Import packages"
   ]
  },
  {
   "cell_type": "code",
   "execution_count": null,
   "metadata": {},
   "outputs": [],
   "source": [
    "import numpy as np\n",
    "import pandas as pd\n",
    "import matplotlib.pyplot as plt\n",
    "import pydicom as dicom\n",
    "import dicom_contour.contour as dcm\n",
    "import cv2\n",
    "import functions_v2 \n"
   ]
  },
  {
   "cell_type": "markdown",
   "metadata": {},
   "source": [
    "# 2. Read in RT files"
   ]
  },
  {
   "cell_type": "code",
   "execution_count": null,
   "metadata": {},
   "outputs": [],
   "source": [
    "# directory of MRI file\n",
    "path = '001'"
   ]
  },
  {
   "cell_type": "markdown",
   "metadata": {},
   "source": [
    "## 2.1 Read in image files (DICOM format)"
   ]
  },
  {
   "cell_type": "code",
   "execution_count": null,
   "metadata": {},
   "outputs": [],
   "source": [
    "ordered_slices = functions_v2.order_slice(path)\n",
    "print(ordered_slices) # ordered slice filenames with its index and z position"
   ]
  },
  {
   "cell_type": "markdown",
   "metadata": {},
   "source": [
    "ordered_slices[:, 0] --> the file names of the ordered slices  \n",
    "ordered_slices[:, 1] --> the indices of the ordered slices  \n",
    "ordered_slices[:, 2] --> the z positions of ordered slices"
   ]
  },
  {
   "cell_type": "code",
   "execution_count": null,
   "metadata": {},
   "outputs": [],
   "source": [
    "# generate the ordered image set\n",
    "images = [dicom.read_file(path + '/' + f).pixel_array for f in ordered_slices[:, 0]] # read in filenames iteratively\n",
    "plt.imshow(images[1], cmap = 'gray') # showing the second slice 'MR010019.dcm'\n",
    "plt.title(f'{ordered_slices[1][0]}')"
   ]
  },
  {
   "cell_type": "markdown",
   "metadata": {},
   "source": [
    "## 2.2 Read in structure file"
   ]
  },
  {
   "cell_type": "code",
   "execution_count": null,
   "metadata": {},
   "outputs": [],
   "source": [
    "# read in structure file\n",
    "structure_file = functions_v2.get_contour_file(path)\n",
    "structure_file"
   ]
  },
  {
   "cell_type": "code",
   "execution_count": null,
   "metadata": {},
   "outputs": [],
   "source": [
    "# sanity check\n",
    "contour_data = dicom.read_file(structure_file)\n",
    "contour_sequence = dcm.get_roi_names(contour_data)\n",
    "contour_sequence"
   ]
  },
  {
   "cell_type": "code",
   "execution_count": null,
   "metadata": {},
   "outputs": [],
   "source": [
    "# specify the contour\n",
    "contour_name = 'bladder'\n",
    "# locate the contour in the contour sequence\n",
    "contour_no = functions_v2.get_contour_sequence(structure_file, contour_name)\n",
    "contour_no # Python counts from 0"
   ]
  },
  {
   "cell_type": "markdown",
   "metadata": {},
   "source": [
    "The get_contour_dict function includes converting the contour matrics from cartesian coordinates to pixel coordinates. \n"
   ]
  },
  {
   "cell_type": "code",
   "execution_count": null,
   "metadata": {},
   "outputs": [],
   "source": [
    "# find out the slices that contains the specified contour and match them together.\n",
    "ima_contour_pairs = functions_v2.get_contour_dict(structure_file, path, contour_no)\n",
    "ima_contour_pairs"
   ]
  },
  {
   "cell_type": "code",
   "execution_count": null,
   "metadata": {},
   "outputs": [],
   "source": [
    "slices_with_contours = functions_v2.get_slices_with_contours(structure_file, path, contour_no, ordered_slices)\n",
    "slices_with_contours"
   ]
  },
  {
   "cell_type": "code",
   "execution_count": null,
   "metadata": {},
   "outputs": [],
   "source": [
    "slices_with_contours[1] # the second slice that contain the contour"
   ]
  },
  {
   "cell_type": "markdown",
   "metadata": {},
   "source": [
    "In the next cell, you can see that we used slices_with_contour[x] to index.\n",
    "\n",
    "slices_with_contours[1][0] --> 'MR010019.dcm', the filename of the second slice that contained the contour  \n",
    "slices_with_contorus[1][1] --> 1, the index of the second slice that contained the contour in ordered_slices"
   ]
  },
  {
   "cell_type": "code",
   "execution_count": null,
   "metadata": {},
   "outputs": [],
   "source": [
    "# visulisation for sanity check\n",
    "plt.figure(figsize = (10,10))\n",
    "plt.subplot(121)\n",
    "plt.imshow(ima_contour_pairs[slices_with_contours[1][0]][0], cmap = 'gray') # show the second slice that contain the contour\n",
    "plt.title(f'{slices_with_contours[1][0]} image')\n",
    "plt.subplot(122)\n",
    "plt.imshow(ima_contour_pairs[slices_with_contours[1][0]][1], cmap = 'gray')\n",
    "plt.title(f'{slices_with_contours[1][0]} contour')"
   ]
  },
  {
   "cell_type": "markdown",
   "metadata": {},
   "source": [
    "# 3 Define region of interest and feature calculation"
   ]
  },
  {
   "cell_type": "markdown",
   "metadata": {},
   "source": [
    "## 3.1 For hollw organ"
   ]
  },
  {
   "cell_type": "code",
   "execution_count": null,
   "metadata": {},
   "outputs": [],
   "source": [
    "# generate 2-pixel-wide bladder wall\n",
    "width = 2\n",
    "images, contours, masks, expanded_contours = functions_v2.get_image_expandedContour_files(path, contour_no, width)\n",
    "\n",
    "# visualisation for sanity check\n",
    "plt.figure(figsize = (10, 8))\n",
    "plt.subplot(221)\n",
    "plt.imshow(images[slices_with_contours[1][1]], cmap = 'gray') # show the second slice that contain the contour\n",
    "plt.title(f'{slices_with_contours[1][0]} MR image')\n",
    "plt.subplot(222)\n",
    "plt.imshow(contours[slices_with_contours[1][1]], cmap = 'gray')\n",
    "plt.title(f'{slices_with_contours[1][0]} bladder contour')\n",
    "plt.subplot(223)\n",
    "plt.imshow(masks[slices_with_contours[1][1]], cmap = 'gray')\n",
    "plt.title(f'{slices_with_contours[1][0]} bladder mask')\n",
    "plt.subplot(224)\n",
    "plt.imshow(expanded_contours[slices_with_contours[1][1]], cmap = 'gray')\n",
    "plt.title(f'{slices_with_contours[1][0]} exapnded 2-pixel-wide bladder mask')"
   ]
  },
  {
   "cell_type": "markdown",
   "metadata": {},
   "source": [
    "2-pixel-wide bladder wall is too small to extract features, generate 8-pixel-wide bladder wall by expanding the 2-pixel-wide bladder wall inwards and outwards with 3 pixels respectively so that we can extract 8x8 subimages.\n",
    "\n",
    "The following cell is just for sanity check. The function **expand_two_sides** is wrapped in function **generate_features**. You can use **generate_feautres** directly.\n"
   ]
  },
  {
   "cell_type": "code",
   "execution_count": null,
   "metadata": {},
   "outputs": [],
   "source": [
    "mask = masks[slices_with_contours[1][1]] # the mask of the second slice with contours  \n",
    "outward_expansion_size = 3\n",
    "target_size = 8\n",
    "# plase read the explanation under function expand_two_sides in functions_v2 for usage\n",
    "expanded_bladder_wall = functions_v2.expand_two_sides(mask, outward_expansion_size, target_size)\n",
    "\n",
    "# visualisation for sanity check\n",
    "# visualisation for sanity check\n",
    "plt.figure(figsize = (15, 8))\n",
    "plt.subplot(131)\n",
    "plt.imshow(contours[slices_with_contours[1][1]], cmap = 'gray') # show the second slice that contain the contour\n",
    "plt.title(f'{slices_with_contours[1][0]} bladder contour')\n",
    "plt.subplot(132)\n",
    "plt.imshow(expanded_contours[slices_with_contours[1][1]], cmap = 'gray')\n",
    "plt.title(f'{slices_with_contours[1][0]} 2-pixel-wide bladder wall')\n",
    "plt.subplot(133)\n",
    "plt.imshow(expanded_bladder_wall, cmap = 'gray')\n",
    "plt.title(f'{slices_with_contours[1][0]} 8-pixel-wide bladder wall')"
   ]
  },
  {
   "cell_type": "markdown",
   "metadata": {},
   "source": [
    "We calculate radiomic features based on IBSI (the image biomarker standardisation initiatives)\n",
    "\n",
    "images quantisation (16 bins) is included in function  *generate_feautres*.\n",
    "\n",
    "https://ibsi.readthedocs.io/en/latest/"
   ]
  },
  {
   "cell_type": "code",
   "execution_count": null,
   "metadata": {},
   "outputs": [],
   "source": [
    "# radiomic features for all subimages on MR010019.dcm (the second slice that contain the contour)\n",
    "features = functions_v2.generate_features(images[slices_with_contours[1][1]], \n",
    "                                          masks[slices_with_contours[1][1]], \n",
    "                                          ROI_size = 8,\n",
    "                                          ifHollow = True, \n",
    "                                          outward_expansion_size = 3)\n",
    "features"
   ]
  },
  {
   "cell_type": "code",
   "execution_count": null,
   "metadata": {},
   "outputs": [],
   "source": [
    "# show the results of the first subimage on MR010019.dcm\n",
    "# you can adjust the code to store the results of all subimages on MR010019.dcm\n",
    "\n",
    "FOS = ['FOS' + str(i+1) for i in range(23)]\n",
    "GLCM = ['GLCM' + str(i+1) for i in range(25)]\n",
    "GLRLM = ['GLRLM' + str(i+1) for i in range(16)]\n",
    "GLSZM = ['GLSZM' + str(i+1) for i in range(16)]\n",
    "GLDZM = ['GLDZM' + str(i+1) for i in range(16)]\n",
    "NGTDM = ['NGTDM' + str(i+1) for i in range(5)]\n",
    "NGLDM = ['NGLDM' + str(i+1) for i in range(17)]\n",
    "\n",
    "feature_names = [FOS + GLCM + GLRLM + GLSZM + GLDZM + NGTDM + NGLDM]\n",
    "\n",
    "feature_values= [features[0][0] + features[0][1] + features[0][2] + features[0][3] + features[0][4] + features[0][5] + features[0][6]]\n",
    "\n",
    "results = dict(zip(feature_names[0], feature_values[0]))\n",
    "results"
   ]
  },
  {
   "cell_type": "markdown",
   "metadata": {},
   "source": [
    "## 3.1 For solid organ\n",
    "\n",
    "assume that the bladder is a solid organ, and we caluclate radiomic features from the whole bladder mask, rather than an expanded bladder wall.\n",
    "\n",
    "All you need to do is set **ifHollow = False**.\n",
    "\n",
    "It would take some time to run the next cell since a solid mask is much larger than an expanded ring-like mask, which would generate much more subimages."
   ]
  },
  {
   "cell_type": "code",
   "execution_count": null,
   "metadata": {},
   "outputs": [],
   "source": [
    "# radiomic features for all subimages on MR010019.dcm (the second slice that contain the contour)\n",
    "features = functions_v2.generate_features(images[slices_with_contours[1][1]], \n",
    "                                          masks[slices_with_contours[1][1]], \n",
    "                                          ROI_size = 8,\n",
    "                                          ifHollow = False)\n",
    "features"
   ]
  },
  {
   "cell_type": "code",
   "execution_count": null,
   "metadata": {},
   "outputs": [],
   "source": []
  },
  {
   "cell_type": "code",
   "execution_count": null,
   "metadata": {},
   "outputs": [],
   "source": []
  }
 ],
 "metadata": {
  "kernelspec": {
   "display_name": "Python 3",
   "language": "python",
   "name": "python3"
  },
  "language_info": {
   "codemirror_mode": {
    "name": "ipython",
    "version": 3
   },
   "file_extension": ".py",
   "mimetype": "text/x-python",
   "name": "python",
   "nbconvert_exporter": "python",
   "pygments_lexer": "ipython3",
   "version": "3.8.5"
  }
 },
 "nbformat": 4,
 "nbformat_minor": 4
}
